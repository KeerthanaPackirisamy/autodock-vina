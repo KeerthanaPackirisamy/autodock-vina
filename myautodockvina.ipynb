{
  "metadata": {
    "language_info": {
      "codemirror_mode": {
        "name": "python",
        "version": 3
      },
      "file_extension": ".py",
      "mimetype": "text/x-python",
      "name": "python",
      "nbconvert_exporter": "python",
      "pygments_lexer": "ipython3",
      "version": "3.8"
    },
    "kernelspec": {
      "name": "python",
      "display_name": "Python (Pyodide)",
      "language": "python"
    }
  },
  "nbformat_minor": 4,
  "nbformat": 4,
  "cells": [
    {
      "cell_type": "code",
      "source": "#loading vina module\nfrom vina import Vina\n#setting variable v\nv = Vina(sf_name='vina')\n#importing receptor file\nv.set_receptor('receptor.pdbqt')\n#importing ligand file\nv.set_ligand_from_file('ligand.pdbqt')\n#placing the active ligand in the grid and center to compute the docking\nv.compute_vina_maps(center=[15.190, 53.903, 16.917], box_size=[20, 20, 20])\n#Score the current pose\nenergy = v.score()\nprint('Score: %.3f (kcal/mol)' % energy[0])\n#Docking the ligand and receptor\nv.dock(exhaustiveness=32, n_poses=20)\n#exporting top 5 binding in a output file\nv.write_poses('ligandout.pdbqt', n_poses=5, overwrite=True)",
      "metadata": {},
      "execution_count": null,
      "outputs": []
    }
  ]
}